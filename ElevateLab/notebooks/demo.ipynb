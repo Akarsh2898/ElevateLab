{
 "cells": [
  {
   "cell_type": "markdown",
   "id": "515763f2",
   "metadata": {},
   "source": [
    "# Titanic Data Processing Demo\n",
    "This notebook runs the processing pipeline and displays plots inline."
   ]
  },
  {
   "cell_type": "code",
   "execution_count": null,
   "id": "1a75ad14",
   "metadata": {},
   "outputs": [],
   "source": [
    "import pandas as pd\n",
    "from First import (process_data, generate_summary_statistics, generate_html_report, visualize_numeric_features, generate_pairplot)\n",
    "from pathlib import Path\n",
    "print('Imports OK')"
   ]
  },
  {
   "cell_type": "code",
   "execution_count": null,
   "id": "1d8d3ea1",
   "metadata": {},
   "outputs": [],
   "source": [
    "DATA = Path('../Titanic-Dataset.csv')\n",
    "if not DATA.exists():\n",
    "    print('Titanic-Dataset.csv not found in notebook relative path; place it in the repo root to run this demo')\n",
    "else:\n",
    "    df = pd.read_csv(DATA)\n",
    "    print(f'Loaded {len(df)} rows, {len(df.columns)} columns')"
   ]
  },
  {
   "cell_type": "markdown",
   "id": "d8423668",
   "metadata": {},
   "source": [
    "## Run the pipeline (missing values, outlier removal, encoding, normalization)\n",
    "We'll run the full pipeline and display a few plots inline."
   ]
  },
  {
   "cell_type": "code",
   "execution_count": null,
   "id": "16e84dad",
   "metadata": {},
   "outputs": [],
   "source": [
    "if DATA.exists():\n",
    "    processed = process_data(outlier_method='IQR', save_stats='notebook_summary.csv', save_report=None)\n",
    "    print('Processing done; sample:')\n",
    "    display(processed.head())"
   ]
  },
  {
   "cell_type": "markdown",
   "id": "9ceaf7c1",
   "metadata": {},
   "source": [
    "## Visualizations\n",
    "Generate numeric feature plots inline and show pairplot (if seaborn available)."
   ]
  },
  {
   "cell_type": "code",
   "execution_count": null,
   "id": "b16847f0",
   "metadata": {},
   "outputs": [],
   "source": [
    "if DATA.exists():\n",
    "    imgs = visualize_numeric_features(df, out_dir='notebook_plots')\n",
    "    for p in imgs:\n",
    "        from IPython.display import Image, display\n",
    "        display(Image(p))\n",
    "    pair = generate_pairplot(df, save_path='notebook_pairplot.png')\n",
    "    if pair:\n",
    "        display(Image(pair))"
   ]
  }
 ],
 "metadata": {
  "language_info": {
   "name": "python"
  }
 },
 "nbformat": 4,
 "nbformat_minor": 5
}
